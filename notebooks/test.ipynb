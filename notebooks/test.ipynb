{
 "cells": [
  {
   "cell_type": "code",
   "execution_count": 26,
   "metadata": {},
   "outputs": [],
   "source": [
    "ROOT_DIR = '/Users/himanshukumar/Desktop/nyuinfo_rag'"
   ]
  },
  {
   "cell_type": "code",
   "execution_count": 27,
   "metadata": {},
   "outputs": [],
   "source": [
    "from pathlib import Path\n",
    "DOCS_DIR = Path(ROOT_DIR, \"engineering.nyu.edu\")"
   ]
  },
  {
   "cell_type": "code",
   "execution_count": 28,
   "metadata": {},
   "outputs": [],
   "source": [
    "import ray\n",
    "ds = ray.data.from_items([{\"path\": path} for path in DOCS_DIR.rglob(\"*.html\") if not path.is_dir()])"
   ]
  },
  {
   "cell_type": "code",
   "execution_count": 29,
   "metadata": {},
   "outputs": [],
   "source": [
    "from pathlib import Path\n",
    "from bs4 import BeautifulSoup"
   ]
  },
  {
   "cell_type": "code",
   "execution_count": 30,
   "metadata": {},
   "outputs": [],
   "source": [
    "def extract_sections(record):\n",
    "    with open(record[\"path\"], \"r\", encoding=\"latin-1\") as html_file:\n",
    "        html_content = html_file.read()\n",
    "        soup = BeautifulSoup(html_content, \"html.parser\")\n",
    "    \n",
    "    sections = soup.find_all(\"p\")\n",
    "    section_text = \"\"\n",
    "    seen_texts = set()\n",
    "\n",
    "    for section in sections:\n",
    "        text = section.get_text(strip=True)\n",
    "        if text and text not in seen_texts:\n",
    "            seen_texts.add(text)\n",
    "            section_text += text + \" \"\n",
    "\n",
    "    section_text = section_text.strip()\n",
    "\n",
    "    if section_text:\n",
    "        uri = path_to_uri(path=record[\"path\"])\n",
    "        return [{\"source\": f\"{uri}\", \"text\": section_text}]\n",
    "    else:\n",
    "        return []\n",
    "\n",
    "def path_to_uri(path, scheme=\"https://\", domain=\"engineering.nyu.edu\"):\n",
    "    uri = scheme + domain + str(path).split(domain)[-1]\n",
    "    return uri[:-5] if uri.endswith(\".html\") else uri"
   ]
  },
  {
   "cell_type": "code",
   "execution_count": 31,
   "metadata": {},
   "outputs": [
    {
     "data": {
      "text/plain": [
       "[{'source': 'https://engineering.nyu.edu/research/student-research/research-expo',\n",
       "  'text': 'Looking forNewsorEvents? NYU Tandon\\'s annual research showcase At the end of each academic year, NYU Tandon School of Engineering showcases research projects by faculty and students â\\x80\\x94 along with interactive, family-friendly tech activities. Tandon Research Excellence Exhibit is an annual public event that features exhibits that illustrate the scope of engineering and the applied sciences â\\x80\\x94 and their potential for improving the world. This yearâ\\x80\\x99s Exhibit will celebrate the incredible academic contributions of our community and the ways in which they connect toTandonâ\\x80\\x99s seven areas of research excellence. The most exciting work being done in labs and prototyping facilities comes alive for spectators of all ages. Child-friendly STEM projects developed for and by the students in NYU Tandonâ\\x80\\x99s manyK12 STEM Educationprograms offer the youngest attendees an introduction into the fascinating world of engineering and technology. The exhibit is free and open to the public.Â First PlaceÂ\\xa0- \"Urban Microclimate: People, Space, Time\" exhibited byÂ\\xa0Diedre Brown,Â\\xa0Vivaldi Rinaldi, andÂ\\xa0Matthias Fitzky Second PlaceÂ\\xa0- \"AMIGO: Autonomous Machine In Galactic Operations - Tandon\\'s Homemade Lunar Excavation Rover\" exhibited byÂ\\xa0Andy Qin, Carlos Campos,Â\\xa0Sarah Moughal, andÂ\\xa0Neha Das Third Place -\"VIP M Biodevices: 3D Printed Wheelchair Arm Mobility Device\" exhibited byÂ\\xa0Nassima Kaojkaji,Â\\xa0Jackie Pinto,Â\\xa0Vicki Li,Â\\xa0Karen Mitsuyama, andÂ\\xa0Brianna Williams First Place -\"Physiological Signal Processing for Mental Well-Being\" exhibited by Rose Faghih (Associate Professor of Biomedical Engineering), Saman Khazaei,Â\\xa0Vidya Raju, Revanth Reddy, andÂ\\xa0Yaxin Guo Second Place -\"Reforming the Organics Collection Program in New York City (Department of Sanitation)\" exhibited byÂ\\xa0Analaura Tostada Third Place -\"HydroGEN: An in situ gelling therapeutic hydrogel to prevent and treat osteoarthritis after traumatic joint injury\" exhibited byÂ\\xa0Nada Haq-Siddiqi andÂ\\xa0Julia Monkovic'}]"
      ]
     },
     "execution_count": 31,
     "metadata": {},
     "output_type": "execute_result"
    }
   ],
   "source": [
    "sample_html_fp = Path(ROOT_DIR, \"engineering.nyu.edu/research/student-research/research-expo.html\")\n",
    "extract_sections({\"path\": sample_html_fp})\n"
   ]
  },
  {
   "cell_type": "code",
   "execution_count": 32,
   "metadata": {},
   "outputs": [
    {
     "name": "stderr",
     "output_type": "stream",
     "text": [
      "2023-12-13 17:45:02,904\tINFO streaming_executor.py:104 -- Executing DAG InputDataBuffer[Input] -> TaskPoolMapOperator[FlatMap(extract_sections)]\n",
      "2023-12-13 17:45:02,906\tINFO streaming_executor.py:105 -- Execution config: ExecutionOptions(resource_limits=ExecutionResources(cpu=None, gpu=None, object_store_memory=None), locality_with_output=False, preserve_order=False, actor_locality_enabled=True, verbose_progress=False)\n",
      "2023-12-13 17:45:02,909\tINFO streaming_executor.py:107 -- Tip: For detailed progress reporting, run `ray.data.DataContext.get_current().execution_options.verbose_progress = True`\n"
     ]
    },
    {
     "data": {
      "application/vnd.jupyter.widget-view+json": {
       "model_id": "7bf6e0509a8541ce97ea6909fe916754",
       "version_major": 2,
       "version_minor": 0
      },
      "text/plain": [
       "Running 0:   0%|          | 0/200 [00:00<?, ?it/s]"
      ]
     },
     "metadata": {},
     "output_type": "display_data"
    },
    {
     "data": {
      "text/plain": [
       "5847"
      ]
     },
     "execution_count": 32,
     "metadata": {},
     "output_type": "execute_result"
    }
   ],
   "source": [
    "# Extract sections\n",
    "sections_ds = ds.flat_map(extract_sections)\n",
    "sections_ds.count()"
   ]
  },
  {
   "cell_type": "code",
   "execution_count": 33,
   "metadata": {},
   "outputs": [],
   "source": [
    "from functools import partial\n",
    "from langchain.text_splitter import RecursiveCharacterTextSplitter\n",
    "\n",
    "def chunk_section(section, chunk_size, chunk_overlap):\n",
    "    text_splitter = RecursiveCharacterTextSplitter(\n",
    "        separators=[\"\\n\\n\", \"\\n\", \" \", \"\"],\n",
    "        chunk_size=chunk_size,\n",
    "        chunk_overlap=chunk_overlap,\n",
    "        length_function=len)\n",
    "    chunks = text_splitter.create_documents(\n",
    "        texts=[section[\"text\"]], \n",
    "        metadatas=[{\"source\": section[\"source\"]}])\n",
    "    return [{\"text\": chunk.page_content, \"source\": chunk.metadata[\"source\"]} for chunk in chunks]"
   ]
  },
  {
   "cell_type": "code",
   "execution_count": 34,
   "metadata": {},
   "outputs": [],
   "source": [
    "chunk_size = 300\n",
    "chunk_overlap = 50"
   ]
  },
  {
   "cell_type": "code",
   "execution_count": 35,
   "metadata": {},
   "outputs": [
    {
     "name": "stderr",
     "output_type": "stream",
     "text": [
      "2023-12-13 17:47:19,650\tINFO streaming_executor.py:104 -- Executing DAG InputDataBuffer[Input] -> TaskPoolMapOperator[FlatMap(extract_sections)->FlatMap(partial)]\n",
      "2023-12-13 17:47:19,653\tINFO streaming_executor.py:105 -- Execution config: ExecutionOptions(resource_limits=ExecutionResources(cpu=None, gpu=None, object_store_memory=None), locality_with_output=False, preserve_order=False, actor_locality_enabled=True, verbose_progress=False)\n",
      "2023-12-13 17:47:19,655\tINFO streaming_executor.py:107 -- Tip: For detailed progress reporting, run `ray.data.DataContext.get_current().execution_options.verbose_progress = True`\n"
     ]
    },
    {
     "data": {
      "application/vnd.jupyter.widget-view+json": {
       "model_id": "effe463f5ebe455e8b99be9538e3f0b1",
       "version_major": 2,
       "version_minor": 0
      },
      "text/plain": [
       "Running 0:   0%|          | 0/200 [00:00<?, ?it/s]"
      ]
     },
     "metadata": {},
     "output_type": "display_data"
    },
    {
     "name": "stdout",
     "output_type": "stream",
     "text": [
      "85631 chunks\n"
     ]
    }
   ],
   "source": [
    "# Scale chunking\n",
    "chunks_ds = sections_ds.flat_map(partial(\n",
    "    chunk_section, \n",
    "    chunk_size=chunk_size, \n",
    "    chunk_overlap=chunk_overlap))\n",
    "print(f\"{chunks_ds.count()} chunks\")"
   ]
  },
  {
   "cell_type": "code",
   "execution_count": 36,
   "metadata": {},
   "outputs": [
    {
     "name": "stderr",
     "output_type": "stream",
     "text": [
      "2023-12-13 17:49:35,134\tINFO streaming_executor.py:104 -- Executing DAG InputDataBuffer[Input] -> TaskPoolMapOperator[FlatMap(extract_sections)->FlatMap(partial)] -> LimitOperator[limit=50]\n",
      "2023-12-13 17:49:35,137\tINFO streaming_executor.py:105 -- Execution config: ExecutionOptions(resource_limits=ExecutionResources(cpu=None, gpu=None, object_store_memory=None), locality_with_output=False, preserve_order=False, actor_locality_enabled=True, verbose_progress=False)\n",
      "2023-12-13 17:49:35,140\tINFO streaming_executor.py:107 -- Tip: For detailed progress reporting, run `ray.data.DataContext.get_current().execution_options.verbose_progress = True`\n"
     ]
    },
    {
     "data": {
      "application/vnd.jupyter.widget-view+json": {
       "model_id": "e903048f56ed478cbc192223f5f507c8",
       "version_major": 2,
       "version_minor": 0
      },
      "text/plain": [
       "Running 0:   0%|          | 0/200 [00:00<?, ?it/s]"
      ]
     },
     "metadata": {},
     "output_type": "display_data"
    },
    {
     "name": "stdout",
     "output_type": "stream",
     "text": [
      "{'text': 'Looking forNewsorEvents? Professor Emeritus Harvard UniversityPh.D.,', 'source': 'https://engineering.nyu.edu/hellmut-juretschke'}\n",
      "{'text': 'Looking forNewsorEvents? Industry Professor (deceased) IDC Foundation Chair in Design & Construction The entire NYU Tandon School of Engineering community mourns the June 22 passing of Industry Professor Michael Horodniceanu, a member of our alumni community since 1978, a valued member of our', 'source': 'https://engineering.nyu.edu/dr-michael-horodniceanu'}\n",
      "{'text': 'community since 1978, a valued member of our faculty, and most recently, theÂfounding chair of the IDC Innovation Hub. In Memoriam Â Dr. Horodniceanu is a Professor and the inaugural Chair of the IDC Innovation Hub, a new initiative aimed at actively engaging stakeholders across the construction', 'source': 'https://engineering.nyu.edu/dr-michael-horodniceanu'}\n",
      "{'text': 'engaging stakeholders across the construction industry, including government officials, developers, contractors, legal entities, unions, and consultants in formulating new approaches to the challenges facing the NY metropolitan area and the wider world. He is a transportation executive with over 40', 'source': 'https://engineering.nyu.edu/dr-michael-horodniceanu'}\n",
      "{'text': 'He is a transportation executive with over 40 years of academic and industry experience and over 30 yearsâ\\x80\\x99 experience in executive management. He has managed complex mega-projects and operations, has expertise in motivating professional and unionized workforces, and has a demonstrated history of', 'source': 'https://engineering.nyu.edu/dr-michael-horodniceanu'}\n",
      "{'text': 'workforces, and has a demonstrated history of delivering on customer commitments. Prior to his current tenure at NYU Tandon, Dr. Horodniceanu held various roles in government, private enterprise, and academia. His business experience includes serving as Chair and CEO of the Urbitran Group,', 'source': 'https://engineering.nyu.edu/dr-michael-horodniceanu'}\n",
      "{'text': 'serving as Chair and CEO of the Urbitran Group, providing leadership for a multi-disciplinary transportation, planning, engineering, and construction management firm with offices throughout the US. His government experience includes serving as the NYC Traffic Commissioner (1986-1990) where he was', 'source': 'https://engineering.nyu.edu/dr-michael-horodniceanu'}\n",
      "{'text': 'NYC Traffic Commissioner (1986-1990) where he was charged with day-to-day traffic operations and the reconstruction of the roadway infrastructure throughout New York City, and more recently as President of MTA Capital Construction (2008-2017) where he was responsible for the nationâ\\x80\\x99s largest', 'source': 'https://engineering.nyu.edu/dr-michael-horodniceanu'}\n",
      "{'text': 'he was responsible for the nationâ\\x80\\x99s largest public transportation construction program with over $25 billion in construction. His tenure at the MTA included oversight of several mega-projects, including East Side Access, Second Avenue Subway, No. 7 Line Extension, and the Fulton Transit Center.', 'source': 'https://engineering.nyu.edu/dr-michael-horodniceanu'}\n",
      "{'text': '7 Line Extension, and the Fulton Transit Center. He taught at Polytechnic University (the precursor school to NYU Tandon School of Engineering) from 1975 to 1980 and Manhattan College from 1980 to 1982 and was instrumental in developing new transportation-related classes at both institutions. Dr.', 'source': 'https://engineering.nyu.edu/dr-michael-horodniceanu'}\n",
      "{'text': 'classes at both institutions. Dr. Horodniceanu is the author of numerous publications and the recipient of many honors and awards, including Civil Engineer of the Year from the American Society of Civil Engineers (2011), British Construction Industry ward for the Fulton Transit Center, and the New', 'source': 'https://engineering.nyu.edu/dr-michael-horodniceanu'}\n",
      "{'text': 'ward for the Fulton Transit Center, and the New York Landmarks Conservancy 2015 Chairmanâ\\x80\\x99s Award for the Corbin Building. He earned a B.S. in Civil Engineering from Technion, Israel Institute of Technology; an M.S. in Engineering Management from Columbia University; and a PhD in Transportation', 'source': 'https://engineering.nyu.edu/dr-michael-horodniceanu'}\n",
      "{'text': 'Columbia University; and a PhD in Transportation Planning and Engineering from NYU Tandon, then known as Brooklyn Polytechnic. He is a registered Professional Engineer in New York.', 'source': 'https://engineering.nyu.edu/dr-michael-horodniceanu'}\n",
      "{'text': 'Looking forNewsorEvents? Professor Emeritus (deceased)', 'source': 'https://engineering.nyu.edu/donald-scarl'}\n",
      "{'text': 'Looking forNewsorEvents?', 'source': 'https://engineering.nyu.edu/yunchou-xing'}\n",
      "{'text': 'Looking forNewsorEvents? We work in the areas of Visualization, Imaging and Data Analysis. The Visualization and Data Analytics Research Center at NYU consists of computer scientists who work closely with domain experts to apply the latest advances in computing to problems of critical societal', 'source': 'https://engineering.nyu.edu/visualization-and-data-analytics-lab-vida'}\n",
      "{'text': 'in computing to problems of critical societal importance, and simultaneously generate hypotheses and methods that new data sources and data types demand.', 'source': 'https://engineering.nyu.edu/visualization-and-data-analytics-lab-vida'}\n",
      "{'text': 'Looking forNewsorEvents? Professor Emeritus', 'source': 'https://engineering.nyu.edu/william-p-vafakos'}\n",
      "{'text': 'Looking forNewsorEvents? NYU Tandon collaborates with K-12 schools, teachers, and students to build careers in science, technology, engineering and math (STEM). The Center for K12 STEM Education aims to increase access to high-quality learning experiences, STEM-focused higher education and related', 'source': 'https://engineering.nyu.edu/k12stem'}\n",
      "{'text': 'STEM-focused higher education and related careers.Sign up for our mailing list! The Center for K12 STEM Education aims to increase access to high-quality learning experiences, STEM-focused higher education and related careers. We offer a variety of hands-on programs to increase the number of highly', 'source': 'https://engineering.nyu.edu/k12stem'}\n",
      "{'text': 'programs to increase the number of highly qualified K-12 STEM teachers Meet all of our talented NYU K12 staff, faculty, and administrators. Enjoy some of our highlights and moments captured over the years at NYU Tandon. Center for K12 STEM Education', 'source': 'https://engineering.nyu.edu/k12stem'}\n",
      "{'text': 'Looking forNewsorEvents? Next time you go for a stroll through your neighborhood, take a moment to take in your surroundings. Observe the trees and buildings, hear conversations or children playing, feel the vibrations caused by cars, smell the (hopefully pleasant) smells. Thereâ\\x80\\x99s a lot we can', 'source': 'https://engineering.nyu.edu/new-ways-view-your-city'}\n",
      "{'text': 'pleasant) smells. Thereâ\\x80\\x99s a lot we can learn about a place just by being in it.Â But maybe you want to dig a little deeper. You could go online to view building records, zoning permits, or sewage infrastructure. You can read the history of the area, read about itâ\\x80\\x99s ecology, and plenty more. But', 'source': 'https://engineering.nyu.edu/new-ways-view-your-city'}\n",
      "{'text': 'read about itâ\\x80\\x99s ecology, and plenty more. But here at NYU Tandon, weâ\\x80\\x99re looking at your neighborhoods in a new, askew way â\\x80\\x94 perspectives you may never have considered. Extreme events caused by climate change, weather, and accidents can seriously affect the infrastructure we rely on, and that', 'source': 'https://engineering.nyu.edu/new-ways-view-your-city'}\n",
      "{'text': 'affect the infrastructure we rely on, and that includes everything underground. In a dense urban environment like New York City, water and sewer networks, electricity, and transportation systems form an incredibly complex underground network of interlocking systems â\\x80\\x94 like a pile of spaghetti on a', 'source': 'https://engineering.nyu.edu/new-ways-view-your-city'}\n",
      "{'text': 'systems â\\x80\\x94 like a pile of spaghetti on a plate. Because this underground infrastructure is so interconnected, when something goes wrong, it can cause a domino effect, impacting things like power, water supply, transportation, and communication, which can have significant social and economic', 'source': 'https://engineering.nyu.edu/new-ways-view-your-city'}\n",
      "{'text': 'which can have significant social and economic consequences for residents. To deal with these challenges and make communities more resilient,Debra Laefer, Professor of Civil and Urban Engineering and a member ofCUSP, is working on a project called UNUM:Unification for Underground Resilience', 'source': 'https://engineering.nyu.edu/new-ways-view-your-city'}\n",
      "{'text': 'UNUM:Unification for Underground Resilience Measures. The project will work with utility companies, city agencies and consultants to design a roadmap for city-level implementation of a subsurface data model and assemble two pilot data sets to prepare study sites against natural disasters. The goal', 'source': 'https://engineering.nyu.edu/new-ways-view-your-city'}\n",
      "{'text': 'study sites against natural disasters. The goal is to create a common understanding of the underground infrastructure and develop strategies to handle disasters and threats like sea-level rise. The project is being piloted in two areas of New York City: Midtown East (Manhattan) and Sunset Park', 'source': 'https://engineering.nyu.edu/new-ways-view-your-city'}\n",
      "{'text': 'City: Midtown East (Manhattan) and Sunset Park (Brooklyn), which have different underground conditions and diverse populations. In the first stage of the project, over 40 stakeholders agreed to share their data through a repository managed by the city agency. Now, in the second stage, they are', 'source': 'https://engineering.nyu.edu/new-ways-view-your-city'}\n",
      "{'text': 'city agency. Now, in the second stage, they are standardizing the data to make it compatible with each other and integrate it onto a common map for better analysis. By doing this, they hope to identify vulnerabilities, reduce accidents and emergencies, and strengthen the infrastructure to withstand', 'source': 'https://engineering.nyu.edu/new-ways-view-your-city'}\n",
      "{'text': 'and strengthen the infrastructure to withstand natural disasters and other large-scale threats.Â For the blind and visually impaired, navigating the complex network of tunnels, ticket kiosks, and platforms of a subway stop can produce a lot of anxiety and frustration. Because subway signs are', 'source': 'https://engineering.nyu.edu/new-ways-view-your-city'}\n",
      "{'text': 'anxiety and frustration. Because subway signs are typically graphical or text-based, they are especially difficult to recognize from distances and reduces the ability to be autonomous in unfamiliar environments. But thanks to anew app from NYU Tandon researchers,that frustration may be alleviated', 'source': 'https://engineering.nyu.edu/new-ways-view-your-city'}\n",
      "{'text': 'researchers,that frustration may be alleviated in New York City. Developed byJohn-Ross Rizzo, Associate Professor of Mechanical & Aerospace Engineering and Biomedical Engineering, as well as a member ofNYU WIRELESSand CUSP, and a team that includes advisors from New York Cityâ\\x80\\x99s Metropolitan', 'source': 'https://engineering.nyu.edu/new-ways-view-your-city'}\n",
      "{'text': 'advisors from New York Cityâ\\x80\\x99s Metropolitan Transit Authority (MTA), Commute Booster automatically figures out what signs a traveler will encounter along the way to a specific subway platform. Then, it uses a smartphoneâ\\x80\\x99s camera to recognize and interpret signs posted inside transit hubs,', 'source': 'https://engineering.nyu.edu/new-ways-view-your-city'}\n",
      "{'text': 'and interpret signs posted inside transit hubs, ignoring irrelevant ones and prompting users to follow relevant ones only. In a recent study, researchers tested Commute Boosterâ\\x80\\x99s interpretation of signage from three New York City subway stations â\\x80\\x94 Jay Street-Metrotech, Dekalb Avenue and Canal', 'source': 'https://engineering.nyu.edu/new-ways-view-your-city'}\n",
      "{'text': 'â\\x80\\x94 Jay Street-Metrotech, Dekalb Avenue and Canal Street â\\x80\\x94 that a traveler would encounter on a specific journey. The app proved 97 percent accurate in identifying signs relevant to reach the intended destination.Â Testing inside those three subway stations also revealed that Commute Booster', 'source': 'https://engineering.nyu.edu/new-ways-view-your-city'}\n",
      "{'text': 'stations also revealed that Commute Booster could â\\x80\\x9creadâ\\x80\\x9d signs from distances and at angles that reflect expected physical positioning of travelers. The Commute Booster system relies on two technological components. The first, general transit feed specification (GTFS), is a standardized way for', 'source': 'https://engineering.nyu.edu/new-ways-view-your-city'}\n",
      "{'text': 'specification (GTFS), is a standardized way for public transportation agencies to share their transit data with developers and third-party applications. The second, optical character recognition (OCR), is technology that can translate images of text into actual editable text. These two', 'source': 'https://engineering.nyu.edu/new-ways-view-your-city'}\n",
      "{'text': 'of text into actual editable text. These two technologies, when used in tandem with Commute Boosterâ\\x80\\x99s algorithm, can identify relevant navigation signs and locate the position of signs in the immediate environments.Â New York Cityâ\\x80\\x99s subway system has long had issues with accessibility, and', 'source': 'https://engineering.nyu.edu/new-ways-view-your-city'}\n",
      "{'text': 'has long had issues with accessibility, and Commute Booster is just one example of how technology can improve the outlook for people in the city who otherwise might struggle with tasks we take for granted. FloodNet, thefirst-ever New York City flood-monitoring network,received $7.2 million in city', 'source': 'https://engineering.nyu.edu/new-ways-view-your-city'}\n",
      "{'text': 'network,received $7.2 million in city funding that will greatly increase the number of monitored flood-prone locations from 31 to 500 over the next five years.Â The project uses sensors installed in flood-prone areas of the city, and can give several hours of advanced warning as water levels begin', 'source': 'https://engineering.nyu.edu/new-ways-view-your-city'}\n",
      "{'text': 'hours of advanced warning as water levels begin to rise. In addition to the sensor network, FloodNet also provides a free,Â\\xa0mobile-friendly web dashboard that allows New York City residents and other stakeholders to monitor and react to flood threats in real-time. Launched on the one-year', 'source': 'https://engineering.nyu.edu/new-ways-view-your-city'}\n",
      "{'text': 'threats in real-time. Launched on the one-year anniversary of Hurricane Ida, the dashboard displays data collected by FloodNetâ\\x80\\x99s expanding system of low-cost, open-source sensors across the cityâ\\x80\\x99s five boroughs.Â FloodNet â\\x80\\x94 made possible with financial support from theC2SMARTTier 1 U.S. DOT', 'source': 'https://engineering.nyu.edu/new-ways-view-your-city'}\n",
      "{'text': 'financial support from theC2SMARTTier 1 U.S. DOT Center at NYU Tandon, the NYU Marron Institute, and the CUNY Office of Research â\\x80\\x94 was developed and tested over the past two and a half years by a group of environmental researchers from NYU Tandon and a number of other schools, and in partnership', 'source': 'https://engineering.nyu.edu/new-ways-view-your-city'}\n",
      "{'text': 'and a number of other schools, and in partnership with the NYC Mayorâ\\x80\\x99s Office of Climate & Environmental Justice, the NYC Office of Technology & Innovation, and neighborhood community groups. Twitter (now known as X) may hold a key to pinpointing precise neighborhoods where systemic racism and', 'source': 'https://engineering.nyu.edu/new-ways-view-your-city'}\n",
      "{'text': 'precise neighborhoods where systemic racism and homophobia have taken hold, allowing researchers to measure the mental-health impact on diverse groups of people who spend time in those places. A team led byRumi Chunara, Associate Professor of Computer Science and Engineering as well as NYU School', 'source': 'https://engineering.nyu.edu/new-ways-view-your-city'}\n",
      "{'text': 'Science and Engineering as well as NYU School of Public Healthâ\\x80\\x99s Biostatistics Department, divided up all of New York City into more than 200 geographic clusters â\\x80\\x94 discrete areas, in some cases just multiple blocks â\\x80\\x94 defined by thedegree of racism and homophobia within each of those', 'source': 'https://engineering.nyu.edu/new-ways-view-your-city'}\n",
      "{'text': 'of racism and homophobia within each of those locations. Unlike typical sources of demographic data, Chunara and her colleagues used Twitter as a proxy to measure nuanced â\\x80\\x9con the groundâ\\x80\\x9d negative sentiment that can permeate the cultural climate of specific locations. The complex analysis', 'source': 'https://engineering.nyu.edu/new-ways-view-your-city'}\n",
      "{'text': 'of specific locations. The complex analysis required the team to develop and employ a novel technique called socio-spatial self-organizing maps (SS-SOMs), in which they applied a combination of keyword filtering, labeling, and iterative learning to Twitter posts generated in New York City. With the', 'source': 'https://engineering.nyu.edu/new-ways-view-your-city'}\n"
     ]
    }
   ],
   "source": [
    "chunks_ds.show(50)"
   ]
  },
  {
   "cell_type": "code",
   "execution_count": 47,
   "metadata": {},
   "outputs": [],
   "source": [
    "from langchain.embeddings import OpenAIEmbeddings\n",
    "from langchain.embeddings.huggingface import HuggingFaceEmbeddings\n",
    "import numpy as np\n",
    "from ray.data import ActorPoolStrategy\n",
    "import os \n",
    "class EmbedChunks:\n",
    "    def __init__(self, model_name):\n",
    "        if model_name == \"text-embedding-ada-002\":\n",
    "            self.embedding_model = OpenAIEmbeddings(\n",
    "                model=model_name,\n",
    "                openai_api_base=os.environ[\"OPENAI_API_BASE\"],\n",
    "                openai_api_key=os.environ[\"OPENAI_API_KEY\"])\n",
    "        else:\n",
    "            self.embedding_model = HuggingFaceEmbeddings(\n",
    "                model_name=model_name,\n",
    "                model_kwargs = {'device': 'cpu'},\n",
    "                encode_kwargs = {'normalize_embeddings': False})\n",
    "    def __call__(self, batch):\n",
    "        embeddings = self.embedding_model.embed_documents(batch[\"text\"])\n",
    "        return {\"text\": batch[\"text\"], \"source\": batch[\"source\"], \"embeddings\": \n",
    "embeddings}"
   ]
  },
  {
   "cell_type": "code",
   "execution_count": 74,
   "metadata": {},
   "outputs": [],
   "source": [
    "# Embed chunks\n",
    "embedding_model_name = \"sentence-transformers/all-MiniLM-l6-v2\"\n",
    "embedded_chunks = chunks_ds.map_batches(\n",
    "    EmbedChunks,\n",
    "    fn_constructor_kwargs={\"model_name\": embedding_model_name},\n",
    "    batch_size=100, \n",
    "    num_cpus=1,\n",
    "    compute=ActorPoolStrategy(size=2))"
   ]
  },
  {
   "cell_type": "code",
   "execution_count": 71,
   "metadata": {},
   "outputs": [],
   "source": [
    "import chromadb\n",
    "client = chromadb.PersistentClient(path=\"./chromdb\")\n",
    "collection = client.get_or_create_collection(name=\"test\")"
   ]
  },
  {
   "cell_type": "code",
   "execution_count": 72,
   "metadata": {},
   "outputs": [],
   "source": [
    "class StoreResults:\n",
    "    def __call__(self, batch):\n",
    "        collection.add(documents=batch[\"text\"],embeddings=batch[\"embeddings\"],metadatas=batch[\"source\"])\n",
    "        return {}"
   ]
  },
  {
   "cell_type": "code",
   "execution_count": 75,
   "metadata": {},
   "outputs": [
    {
     "name": "stderr",
     "output_type": "stream",
     "text": [
      "2023-12-13 22:31:20,376\tWARNING plan.py:577 -- Warning: The Ray cluster currently does not have any available CPUs. The Dataset job will hang unless more CPUs are freed up. A common reason is that cluster resources are used by Actors or Tune trials; see the following link for more details: https://docs.ray.io/en/latest/data/data-internals.html#ray-data-and-tune\n",
      "2023-12-13 22:31:20,380\tINFO streaming_executor.py:104 -- Executing DAG InputDataBuffer[Input] -> ActorPoolMapOperator[FlatMap(extract_sections)->FlatMap(partial)->MapBatches(EmbedChunks)] -> ActorPoolMapOperator[MapBatches(StoreResults)]\n",
      "2023-12-13 22:31:20,381\tINFO streaming_executor.py:105 -- Execution config: ExecutionOptions(resource_limits=ExecutionResources(cpu=None, gpu=None, object_store_memory=None), locality_with_output=False, preserve_order=False, actor_locality_enabled=True, verbose_progress=False)\n",
      "2023-12-13 22:31:20,382\tINFO streaming_executor.py:107 -- Tip: For detailed progress reporting, run `ray.data.DataContext.get_current().execution_options.verbose_progress = True`\n",
      "2023-12-13 22:31:20,425\tINFO actor_pool_map_operator.py:114 -- FlatMap(extract_sections)->FlatMap(partial)->MapBatches(EmbedChunks): Waiting for 2 pool actors to start...\n"
     ]
    },
    {
     "name": "stdout",
     "output_type": "stream",
     "text": [
      "(autoscaler +32h15m54s) Warning: The following resource request cannot be scheduled right now: {'CPU': 1.0}. This is likely due to all cluster resources being claimed by actors. Consider creating fewer actors or adding more nodes to this Ray cluster.\n",
      "(autoscaler +32h16m28s) Warning: The following resource request cannot be scheduled right now: {'CPU': 1.0}. This is likely due to all cluster resources being claimed by actors. Consider creating fewer actors or adding more nodes to this Ray cluster.\n",
      "(autoscaler +32h17m4s) Warning: The following resource request cannot be scheduled right now: {'CPU': 1.0}. This is likely due to all cluster resources being claimed by actors. Consider creating fewer actors or adding more nodes to this Ray cluster.\n",
      "(autoscaler +32h17m39s) Warning: The following resource request cannot be scheduled right now: {'CPU': 1.0}. This is likely due to all cluster resources being claimed by actors. Consider creating fewer actors or adding more nodes to this Ray cluster.\n",
      "(autoscaler +32h18m14s) Warning: The following resource request cannot be scheduled right now: {'CPU': 1.0}. This is likely due to all cluster resources being claimed by actors. Consider creating fewer actors or adding more nodes to this Ray cluster.\n",
      "(autoscaler +32h18m49s) Warning: The following resource request cannot be scheduled right now: {'CPU': 1.0}. This is likely due to all cluster resources being claimed by actors. Consider creating fewer actors or adding more nodes to this Ray cluster.\n",
      "(autoscaler +32h19m24s) Warning: The following resource request cannot be scheduled right now: {'CPU': 1.0}. This is likely due to all cluster resources being claimed by actors. Consider creating fewer actors or adding more nodes to this Ray cluster.\n",
      "(autoscaler +32h19m59s) Warning: The following resource request cannot be scheduled right now: {'CPU': 1.0}. This is likely due to all cluster resources being claimed by actors. Consider creating fewer actors or adding more nodes to this Ray cluster.\n",
      "(autoscaler +32h20m34s) Warning: The following resource request cannot be scheduled right now: {'CPU': 1.0}. This is likely due to all cluster resources being claimed by actors. Consider creating fewer actors or adding more nodes to this Ray cluster.\n",
      "(autoscaler +32h21m9s) Warning: The following resource request cannot be scheduled right now: {'CPU': 1.0}. This is likely due to all cluster resources being claimed by actors. Consider creating fewer actors or adding more nodes to this Ray cluster.\n",
      "(autoscaler +32h21m44s) Warning: The following resource request cannot be scheduled right now: {'CPU': 1.0}. This is likely due to all cluster resources being claimed by actors. Consider creating fewer actors or adding more nodes to this Ray cluster.\n",
      "(autoscaler +32h22m19s) Warning: The following resource request cannot be scheduled right now: {'CPU': 1.0}. This is likely due to all cluster resources being claimed by actors. Consider creating fewer actors or adding more nodes to this Ray cluster.\n",
      "(autoscaler +32h22m55s) Warning: The following resource request cannot be scheduled right now: {'CPU': 1.0}. This is likely due to all cluster resources being claimed by actors. Consider creating fewer actors or adding more nodes to this Ray cluster.\n"
     ]
    },
    {
     "ename": "KeyboardInterrupt",
     "evalue": "",
     "output_type": "error",
     "traceback": [
      "\u001b[0;31m---------------------------------------------------------------------------\u001b[0m",
      "\u001b[0;31mKeyboardInterrupt\u001b[0m                         Traceback (most recent call last)",
      "Cell \u001b[0;32mIn[75], line 7\u001b[0m\n\u001b[1;32m      1\u001b[0m \u001b[39m# Index data\u001b[39;00m\n\u001b[1;32m      2\u001b[0m embedded_chunks\u001b[39m.\u001b[39;49mmap_batches(\n\u001b[1;32m      3\u001b[0m     StoreResults,\n\u001b[1;32m      4\u001b[0m     batch_size\u001b[39m=\u001b[39;49m\u001b[39m128\u001b[39;49m,\n\u001b[1;32m      5\u001b[0m     num_cpus\u001b[39m=\u001b[39;49m\u001b[39m1\u001b[39;49m,\n\u001b[1;32m      6\u001b[0m     compute\u001b[39m=\u001b[39;49mActorPoolStrategy(size\u001b[39m=\u001b[39;49m\u001b[39m2\u001b[39;49m),\n\u001b[0;32m----> 7\u001b[0m )\u001b[39m.\u001b[39;49mcount()\n",
      "File \u001b[0;32m~/.pyenv/versions/3.10.13/envs/nyu-rag-app/lib/python3.10/site-packages/ray/data/dataset.py:2501\u001b[0m, in \u001b[0;36mDataset.count\u001b[0;34m(self)\u001b[0m\n\u001b[1;32m   2495\u001b[0m     \u001b[39mreturn\u001b[39;00m meta_count\n\u001b[1;32m   2497\u001b[0m get_num_rows \u001b[39m=\u001b[39m cached_remote_fn(_get_num_rows)\n\u001b[1;32m   2499\u001b[0m \u001b[39mreturn\u001b[39;00m \u001b[39msum\u001b[39m(\n\u001b[1;32m   2500\u001b[0m     ray\u001b[39m.\u001b[39mget(\n\u001b[0;32m-> 2501\u001b[0m         [get_num_rows\u001b[39m.\u001b[39mremote(block) \u001b[39mfor\u001b[39;00m block \u001b[39min\u001b[39;00m \u001b[39mself\u001b[39;49m\u001b[39m.\u001b[39;49mget_internal_block_refs()]\n\u001b[1;32m   2502\u001b[0m     )\n\u001b[1;32m   2503\u001b[0m )\n",
      "File \u001b[0;32m~/.pyenv/versions/3.10.13/envs/nyu-rag-app/lib/python3.10/site-packages/ray/data/dataset.py:4590\u001b[0m, in \u001b[0;36mDataset.get_internal_block_refs\u001b[0;34m(self)\u001b[0m\n\u001b[1;32m   4571\u001b[0m \u001b[39m@ConsumptionAPI\u001b[39m(pattern\u001b[39m=\u001b[39m\u001b[39m\"\u001b[39m\u001b[39mTime complexity:\u001b[39m\u001b[39m\"\u001b[39m)\n\u001b[1;32m   4572\u001b[0m \u001b[39m@DeveloperAPI\u001b[39m\n\u001b[1;32m   4573\u001b[0m \u001b[39mdef\u001b[39;00m \u001b[39mget_internal_block_refs\u001b[39m(\u001b[39mself\u001b[39m) \u001b[39m-\u001b[39m\u001b[39m>\u001b[39m List[ObjectRef[Block]]:\n\u001b[1;32m   4574\u001b[0m \u001b[39m    \u001b[39m\u001b[39m\"\"\"Get a list of references to the underlying blocks of this dataset.\u001b[39;00m\n\u001b[1;32m   4575\u001b[0m \n\u001b[1;32m   4576\u001b[0m \u001b[39m    This function can be used for zero-copy access to the data. It blocks\u001b[39;00m\n\u001b[0;32m   (...)\u001b[0m\n\u001b[1;32m   4588\u001b[0m \u001b[39m        A list of references to this dataset's blocks.\u001b[39;00m\n\u001b[1;32m   4589\u001b[0m \u001b[39m    \"\"\"\u001b[39;00m\n\u001b[0;32m-> 4590\u001b[0m     blocks \u001b[39m=\u001b[39m \u001b[39mself\u001b[39;49m\u001b[39m.\u001b[39;49m_plan\u001b[39m.\u001b[39;49mexecute()\u001b[39m.\u001b[39mget_blocks()\n\u001b[1;32m   4591\u001b[0m     \u001b[39mself\u001b[39m\u001b[39m.\u001b[39m_synchronize_progress_bar()\n\u001b[1;32m   4592\u001b[0m     \u001b[39mreturn\u001b[39;00m blocks\n",
      "File \u001b[0;32m~/.pyenv/versions/3.10.13/envs/nyu-rag-app/lib/python3.10/site-packages/ray/data/_internal/plan.py:599\u001b[0m, in \u001b[0;36mExecutionPlan.execute\u001b[0;34m(self, allow_clear_input_blocks, force_read, preserve_order)\u001b[0m\n\u001b[1;32m    594\u001b[0m metrics_tag \u001b[39m=\u001b[39m (\u001b[39mself\u001b[39m\u001b[39m.\u001b[39m_dataset_name \u001b[39mor\u001b[39;00m \u001b[39m\"\u001b[39m\u001b[39m\"\u001b[39m) \u001b[39m+\u001b[39m \u001b[39mself\u001b[39m\u001b[39m.\u001b[39m_dataset_uuid\n\u001b[1;32m    595\u001b[0m executor \u001b[39m=\u001b[39m StreamingExecutor(\n\u001b[1;32m    596\u001b[0m     copy\u001b[39m.\u001b[39mdeepcopy(context\u001b[39m.\u001b[39mexecution_options),\n\u001b[1;32m    597\u001b[0m     metrics_tag,\n\u001b[1;32m    598\u001b[0m )\n\u001b[0;32m--> 599\u001b[0m blocks \u001b[39m=\u001b[39m execute_to_legacy_block_list(\n\u001b[1;32m    600\u001b[0m     executor,\n\u001b[1;32m    601\u001b[0m     \u001b[39mself\u001b[39;49m,\n\u001b[1;32m    602\u001b[0m     allow_clear_input_blocks\u001b[39m=\u001b[39;49mallow_clear_input_blocks,\n\u001b[1;32m    603\u001b[0m     dataset_uuid\u001b[39m=\u001b[39;49m\u001b[39mself\u001b[39;49m\u001b[39m.\u001b[39;49m_dataset_uuid,\n\u001b[1;32m    604\u001b[0m     preserve_order\u001b[39m=\u001b[39;49mpreserve_order,\n\u001b[1;32m    605\u001b[0m )\n\u001b[1;32m    606\u001b[0m \u001b[39m# TODO(ekl) we shouldn't need to set this in the future once we move\u001b[39;00m\n\u001b[1;32m    607\u001b[0m \u001b[39m# to a fully lazy execution model, unless .materialize() is used. Th\u001b[39;00m\n\u001b[1;32m    608\u001b[0m \u001b[39m# reason we need it right now is since the user may iterate over a\u001b[39;00m\n\u001b[1;32m    609\u001b[0m \u001b[39m# Dataset multiple times after fully executing it once.\u001b[39;00m\n\u001b[1;32m    610\u001b[0m \u001b[39mif\u001b[39;00m \u001b[39mnot\u001b[39;00m \u001b[39mself\u001b[39m\u001b[39m.\u001b[39m_run_by_consumer:\n",
      "File \u001b[0;32m~/.pyenv/versions/3.10.13/envs/nyu-rag-app/lib/python3.10/site-packages/ray/data/_internal/execution/legacy_compat.py:118\u001b[0m, in \u001b[0;36mexecute_to_legacy_block_list\u001b[0;34m(executor, plan, allow_clear_input_blocks, dataset_uuid, preserve_order)\u001b[0m\n\u001b[1;32m    100\u001b[0m \u001b[39m\u001b[39m\u001b[39m\"\"\"Execute a plan with the new executor and translate it into a legacy block list.\u001b[39;00m\n\u001b[1;32m    101\u001b[0m \n\u001b[1;32m    102\u001b[0m \u001b[39mArgs:\u001b[39;00m\n\u001b[0;32m   (...)\u001b[0m\n\u001b[1;32m    110\u001b[0m \u001b[39m    The output as a legacy block list.\u001b[39;00m\n\u001b[1;32m    111\u001b[0m \u001b[39m\"\"\"\u001b[39;00m\n\u001b[1;32m    112\u001b[0m dag, stats \u001b[39m=\u001b[39m _get_execution_dag(\n\u001b[1;32m    113\u001b[0m     executor,\n\u001b[1;32m    114\u001b[0m     plan,\n\u001b[1;32m    115\u001b[0m     allow_clear_input_blocks,\n\u001b[1;32m    116\u001b[0m     preserve_order,\n\u001b[1;32m    117\u001b[0m )\n\u001b[0;32m--> 118\u001b[0m bundles \u001b[39m=\u001b[39m executor\u001b[39m.\u001b[39;49mexecute(dag, initial_stats\u001b[39m=\u001b[39;49mstats)\n\u001b[1;32m    119\u001b[0m block_list \u001b[39m=\u001b[39m _bundles_to_block_list(bundles)\n\u001b[1;32m    120\u001b[0m \u001b[39m# Set the stats UUID after execution finishes.\u001b[39;00m\n",
      "File \u001b[0;32m~/.pyenv/versions/3.10.13/envs/nyu-rag-app/lib/python3.10/site-packages/ray/data/_internal/execution/streaming_executor.py:114\u001b[0m, in \u001b[0;36mStreamingExecutor.execute\u001b[0;34m(self, dag, initial_stats)\u001b[0m\n\u001b[1;32m    107\u001b[0m         logger\u001b[39m.\u001b[39mget_logger()\u001b[39m.\u001b[39minfo(\n\u001b[1;32m    108\u001b[0m             \u001b[39m\"\u001b[39m\u001b[39mTip: For detailed progress reporting, run \u001b[39m\u001b[39m\"\u001b[39m\n\u001b[1;32m    109\u001b[0m             \u001b[39m\"\u001b[39m\u001b[39m`ray.data.DataContext.get_current().\u001b[39m\u001b[39m\"\u001b[39m\n\u001b[1;32m    110\u001b[0m             \u001b[39m\"\u001b[39m\u001b[39mexecution_options.verbose_progress = True`\u001b[39m\u001b[39m\"\u001b[39m\n\u001b[1;32m    111\u001b[0m         )\n\u001b[1;32m    113\u001b[0m \u001b[39m# Setup the streaming DAG topology and start the runner thread.\u001b[39;00m\n\u001b[0;32m--> 114\u001b[0m \u001b[39mself\u001b[39m\u001b[39m.\u001b[39m_topology, _ \u001b[39m=\u001b[39m build_streaming_topology(dag, \u001b[39mself\u001b[39;49m\u001b[39m.\u001b[39;49m_options)\n\u001b[1;32m    115\u001b[0m \u001b[39mself\u001b[39m\u001b[39m.\u001b[39m_backpressure_policies \u001b[39m=\u001b[39m get_backpressure_policies(\u001b[39mself\u001b[39m\u001b[39m.\u001b[39m_topology)\n\u001b[1;32m    117\u001b[0m \u001b[39mif\u001b[39;00m \u001b[39mnot\u001b[39;00m \u001b[39misinstance\u001b[39m(dag, InputDataBuffer):\n\u001b[1;32m    118\u001b[0m     \u001b[39m# Note: DAG must be initialized in order to query num_outputs_total.\u001b[39;00m\n",
      "File \u001b[0;32m~/.pyenv/versions/3.10.13/envs/nyu-rag-app/lib/python3.10/site-packages/ray/data/_internal/execution/streaming_executor_state.py:318\u001b[0m, in \u001b[0;36mbuild_streaming_topology\u001b[0;34m(dag, options)\u001b[0m\n\u001b[1;32m    315\u001b[0m     op\u001b[39m.\u001b[39mstart(options)\n\u001b[1;32m    316\u001b[0m     \u001b[39mreturn\u001b[39;00m op_state\n\u001b[0;32m--> 318\u001b[0m setup_state(dag)\n\u001b[1;32m    320\u001b[0m \u001b[39m# Create the progress bars starting from the first operator to run.\u001b[39;00m\n\u001b[1;32m    321\u001b[0m \u001b[39m# Note that the topology dict is in topological sort order. Index zero is reserved\u001b[39;00m\n\u001b[1;32m    322\u001b[0m \u001b[39m# for global progress information.\u001b[39;00m\n\u001b[1;32m    323\u001b[0m i \u001b[39m=\u001b[39m \u001b[39m1\u001b[39m\n",
      "File \u001b[0;32m~/.pyenv/versions/3.10.13/envs/nyu-rag-app/lib/python3.10/site-packages/ray/data/_internal/execution/streaming_executor_state.py:309\u001b[0m, in \u001b[0;36mbuild_streaming_topology.<locals>.setup_state\u001b[0;34m(op)\u001b[0m\n\u001b[1;32m    307\u001b[0m inqueues \u001b[39m=\u001b[39m []\n\u001b[1;32m    308\u001b[0m \u001b[39mfor\u001b[39;00m i, parent \u001b[39min\u001b[39;00m \u001b[39menumerate\u001b[39m(op\u001b[39m.\u001b[39minput_dependencies):\n\u001b[0;32m--> 309\u001b[0m     parent_state \u001b[39m=\u001b[39m setup_state(parent)\n\u001b[1;32m    310\u001b[0m     inqueues\u001b[39m.\u001b[39mappend(parent_state\u001b[39m.\u001b[39moutqueue)\n\u001b[1;32m    312\u001b[0m \u001b[39m# Create state.\u001b[39;00m\n",
      "File \u001b[0;32m~/.pyenv/versions/3.10.13/envs/nyu-rag-app/lib/python3.10/site-packages/ray/data/_internal/execution/streaming_executor_state.py:315\u001b[0m, in \u001b[0;36mbuild_streaming_topology.<locals>.setup_state\u001b[0;34m(op)\u001b[0m\n\u001b[1;32m    313\u001b[0m op_state \u001b[39m=\u001b[39m OpState(op, inqueues)\n\u001b[1;32m    314\u001b[0m topology[op] \u001b[39m=\u001b[39m op_state\n\u001b[0;32m--> 315\u001b[0m op\u001b[39m.\u001b[39;49mstart(options)\n\u001b[1;32m    316\u001b[0m \u001b[39mreturn\u001b[39;00m op_state\n",
      "File \u001b[0;32m~/.pyenv/versions/3.10.13/envs/nyu-rag-app/lib/python3.10/site-packages/ray/data/_internal/execution/operators/actor_pool_map_operator.py:117\u001b[0m, in \u001b[0;36mActorPoolMapOperator.start\u001b[0;34m(self, options)\u001b[0m\n\u001b[1;32m    110\u001b[0m \u001b[39m# We synchronously wait for the initial number of actors to start. This avoids\u001b[39;00m\n\u001b[1;32m    111\u001b[0m \u001b[39m# situations where the scheduler is unable to schedule downstream operators\u001b[39;00m\n\u001b[1;32m    112\u001b[0m \u001b[39m# due to lack of available actors, causing an initial \"pileup\" of objects on\u001b[39;00m\n\u001b[1;32m    113\u001b[0m \u001b[39m# upstream operators, leading to a spike in memory usage prior to steady state.\u001b[39;00m\n\u001b[1;32m    114\u001b[0m logger\u001b[39m.\u001b[39mget_logger()\u001b[39m.\u001b[39minfo(\n\u001b[1;32m    115\u001b[0m     \u001b[39mf\u001b[39m\u001b[39m\"\u001b[39m\u001b[39m{\u001b[39;00m\u001b[39mself\u001b[39m\u001b[39m.\u001b[39m_name\u001b[39m}\u001b[39;00m\u001b[39m: Waiting for \u001b[39m\u001b[39m{\u001b[39;00m\u001b[39mlen\u001b[39m(refs)\u001b[39m}\u001b[39;00m\u001b[39m pool actors to start...\u001b[39m\u001b[39m\"\u001b[39m\n\u001b[1;32m    116\u001b[0m )\n\u001b[0;32m--> 117\u001b[0m ray\u001b[39m.\u001b[39;49mget(refs, timeout\u001b[39m=\u001b[39;49mDEFAULT_WAIT_FOR_MIN_ACTORS_SEC)\n",
      "File \u001b[0;32m~/.pyenv/versions/3.10.13/envs/nyu-rag-app/lib/python3.10/site-packages/ray/_private/auto_init_hook.py:24\u001b[0m, in \u001b[0;36mwrap_auto_init.<locals>.auto_init_wrapper\u001b[0;34m(*args, **kwargs)\u001b[0m\n\u001b[1;32m     21\u001b[0m \u001b[39m@wraps\u001b[39m(fn)\n\u001b[1;32m     22\u001b[0m \u001b[39mdef\u001b[39;00m \u001b[39mauto_init_wrapper\u001b[39m(\u001b[39m*\u001b[39margs, \u001b[39m*\u001b[39m\u001b[39m*\u001b[39mkwargs):\n\u001b[1;32m     23\u001b[0m     auto_init_ray()\n\u001b[0;32m---> 24\u001b[0m     \u001b[39mreturn\u001b[39;00m fn(\u001b[39m*\u001b[39;49margs, \u001b[39m*\u001b[39;49m\u001b[39m*\u001b[39;49mkwargs)\n",
      "File \u001b[0;32m~/.pyenv/versions/3.10.13/envs/nyu-rag-app/lib/python3.10/site-packages/ray/_private/client_mode_hook.py:103\u001b[0m, in \u001b[0;36mclient_mode_hook.<locals>.wrapper\u001b[0;34m(*args, **kwargs)\u001b[0m\n\u001b[1;32m    101\u001b[0m     \u001b[39mif\u001b[39;00m func\u001b[39m.\u001b[39m\u001b[39m__name__\u001b[39m \u001b[39m!=\u001b[39m \u001b[39m\"\u001b[39m\u001b[39minit\u001b[39m\u001b[39m\"\u001b[39m \u001b[39mor\u001b[39;00m is_client_mode_enabled_by_default:\n\u001b[1;32m    102\u001b[0m         \u001b[39mreturn\u001b[39;00m \u001b[39mgetattr\u001b[39m(ray, func\u001b[39m.\u001b[39m\u001b[39m__name__\u001b[39m)(\u001b[39m*\u001b[39margs, \u001b[39m*\u001b[39m\u001b[39m*\u001b[39mkwargs)\n\u001b[0;32m--> 103\u001b[0m \u001b[39mreturn\u001b[39;00m func(\u001b[39m*\u001b[39;49margs, \u001b[39m*\u001b[39;49m\u001b[39m*\u001b[39;49mkwargs)\n",
      "File \u001b[0;32m~/.pyenv/versions/3.10.13/envs/nyu-rag-app/lib/python3.10/site-packages/ray/_private/worker.py:2557\u001b[0m, in \u001b[0;36mget\u001b[0;34m(object_refs, timeout)\u001b[0m\n\u001b[1;32m   2552\u001b[0m     \u001b[39mraise\u001b[39;00m \u001b[39mValueError\u001b[39;00m(\n\u001b[1;32m   2553\u001b[0m         \u001b[39m\"\u001b[39m\u001b[39m'\u001b[39m\u001b[39mobject_refs\u001b[39m\u001b[39m'\u001b[39m\u001b[39m must either be an ObjectRef or a list of ObjectRefs.\u001b[39m\u001b[39m\"\u001b[39m\n\u001b[1;32m   2554\u001b[0m     )\n\u001b[1;32m   2556\u001b[0m \u001b[39m# TODO(ujvl): Consider how to allow user to retrieve the ready objects.\u001b[39;00m\n\u001b[0;32m-> 2557\u001b[0m values, debugger_breakpoint \u001b[39m=\u001b[39m worker\u001b[39m.\u001b[39;49mget_objects(object_refs, timeout\u001b[39m=\u001b[39;49mtimeout)\n\u001b[1;32m   2558\u001b[0m \u001b[39mfor\u001b[39;00m i, value \u001b[39min\u001b[39;00m \u001b[39menumerate\u001b[39m(values):\n\u001b[1;32m   2559\u001b[0m     \u001b[39mif\u001b[39;00m \u001b[39misinstance\u001b[39m(value, RayError):\n",
      "File \u001b[0;32m~/.pyenv/versions/3.10.13/envs/nyu-rag-app/lib/python3.10/site-packages/ray/_private/worker.py:769\u001b[0m, in \u001b[0;36mWorker.get_objects\u001b[0;34m(self, object_refs, timeout)\u001b[0m\n\u001b[1;32m    763\u001b[0m         \u001b[39mraise\u001b[39;00m \u001b[39mTypeError\u001b[39;00m(\n\u001b[1;32m    764\u001b[0m             \u001b[39mf\u001b[39m\u001b[39m\"\u001b[39m\u001b[39mAttempting to call `get` on the value \u001b[39m\u001b[39m{\u001b[39;00mobject_ref\u001b[39m}\u001b[39;00m\u001b[39m, \u001b[39m\u001b[39m\"\u001b[39m\n\u001b[1;32m    765\u001b[0m             \u001b[39m\"\u001b[39m\u001b[39mwhich is not an ray.ObjectRef.\u001b[39m\u001b[39m\"\u001b[39m\n\u001b[1;32m    766\u001b[0m         )\n\u001b[1;32m    768\u001b[0m timeout_ms \u001b[39m=\u001b[39m \u001b[39mint\u001b[39m(timeout \u001b[39m*\u001b[39m \u001b[39m1000\u001b[39m) \u001b[39mif\u001b[39;00m timeout \u001b[39mis\u001b[39;00m \u001b[39mnot\u001b[39;00m \u001b[39mNone\u001b[39;00m \u001b[39melse\u001b[39;00m \u001b[39m-\u001b[39m\u001b[39m1\u001b[39m\n\u001b[0;32m--> 769\u001b[0m data_metadata_pairs \u001b[39m=\u001b[39m \u001b[39mself\u001b[39;49m\u001b[39m.\u001b[39;49mcore_worker\u001b[39m.\u001b[39;49mget_objects(\n\u001b[1;32m    770\u001b[0m     object_refs, \u001b[39mself\u001b[39;49m\u001b[39m.\u001b[39;49mcurrent_task_id, timeout_ms\n\u001b[1;32m    771\u001b[0m )\n\u001b[1;32m    772\u001b[0m debugger_breakpoint \u001b[39m=\u001b[39m \u001b[39mb\u001b[39m\u001b[39m\"\u001b[39m\u001b[39m\"\u001b[39m\n\u001b[1;32m    773\u001b[0m \u001b[39mfor\u001b[39;00m data, metadata \u001b[39min\u001b[39;00m data_metadata_pairs:\n",
      "File \u001b[0;32mpython/ray/_raylet.pyx:3211\u001b[0m, in \u001b[0;36mray._raylet.CoreWorker.get_objects\u001b[0;34m()\u001b[0m\n",
      "File \u001b[0;32mpython/ray/_raylet.pyx:449\u001b[0m, in \u001b[0;36mray._raylet.check_status\u001b[0;34m()\u001b[0m\n",
      "\u001b[0;31mKeyboardInterrupt\u001b[0m: "
     ]
    },
    {
     "name": "stderr",
     "output_type": "stream",
     "text": [
      "Exception ignored in: <function StreamingExecutor.__del__ at 0x121e34a60>\n",
      "Traceback (most recent call last):\n",
      "  File \"/Users/himanshukumar/.pyenv/versions/3.10.13/envs/nyu-rag-app/lib/python3.10/site-packages/ray/data/_internal/execution/streaming_executor.py\", line 161, in __del__\n",
      "    self.shutdown()\n",
      "  File \"/Users/himanshukumar/.pyenv/versions/3.10.13/envs/nyu-rag-app/lib/python3.10/site-packages/ray/data/_internal/execution/streaming_executor.py\", line 174, in shutdown\n",
      "    self.join(timeout=2.0)\n",
      "  File \"/Users/himanshukumar/.pyenv/versions/3.10.13/lib/python3.10/threading.py\", line 1091, in join\n",
      "    raise RuntimeError(\"cannot join thread before it is started\")\n",
      "RuntimeError: cannot join thread before it is started\n"
     ]
    },
    {
     "name": "stdout",
     "output_type": "stream",
     "text": [
      "(autoscaler +32h23m30s) Warning: The following resource request cannot be scheduled right now: {'CPU': 1.0}. This is likely due to all cluster resources being claimed by actors. Consider creating fewer actors or adding more nodes to this Ray cluster.\n",
      "(autoscaler +32h24m5s) Warning: The following resource request cannot be scheduled right now: {'CPU': 1.0}. This is likely due to all cluster resources being claimed by actors. Consider creating fewer actors or adding more nodes to this Ray cluster.\n"
     ]
    }
   ],
   "source": [
    "# Index data\n",
    "embedded_chunks.map_batches(\n",
    "    StoreResults,\n",
    "    batch_size=128,\n",
    "    num_cpus=1,\n",
    "    compute=ActorPoolStrategy(size=2),\n",
    ").count()"
   ]
  },
  {
   "cell_type": "code",
   "execution_count": null,
   "metadata": {},
   "outputs": [],
   "source": []
  }
 ],
 "metadata": {
  "kernelspec": {
   "display_name": "Python 3",
   "language": "python",
   "name": "python3"
  },
  "language_info": {
   "codemirror_mode": {
    "name": "ipython",
    "version": 3
   },
   "file_extension": ".py",
   "mimetype": "text/x-python",
   "name": "python",
   "nbconvert_exporter": "python",
   "pygments_lexer": "ipython3",
   "version": "3.10.13"
  },
  "orig_nbformat": 4
 },
 "nbformat": 4,
 "nbformat_minor": 2
}
